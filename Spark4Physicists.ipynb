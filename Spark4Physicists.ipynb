{
 "cells": [
  {
   "cell_type": "markdown",
   "metadata": {},
   "source": [
    "# Analysing billion-objects catalogue interactively: Spark for physicists\n",
    "<br> Authors: **S. Plaszczynski, J. Peloton, C. Arnault and J.E. Campagne **\n",
    "<br> ***LAL, Univ. Paris-Sud, CNRS/IN2P3, Universite Paris-Saclay, Orsay, France***\n",
    "<br> Last Verified to Run: **2019-02-07**\n",
    "\n",
    "\n",
    "\n",
    "This jupyter notebook describes the analysis presented in  https://arxiv.org/abs/1807.03078\n",
    "The results presented here were run on the Universite Paris-Sud Spark cluster: https://www.informatique-scientifique.u-psud.fr/services/spark.html\n",
    "\n",
    "In order to run this notebook you need:\n",
    "- a cluster running `pypark` (spark version >=2.2) on which the following python libraries have been installed (on each executor):\n",
    "`matplotlib`,`numpy`,`pandas`,`pyarrow`,`healpy`\n",
    "- a spark jupyter kernel (NERSC users: https://github.com/astrolabsoftware/spark-kernel-nersc)\n",
    "- the `SparkFITS` library : https://astrolabsoftware.github.io/spark-fits/\n",
    "- a set of FITS files, as produced for instance by the `CoLoRe` simulation : https://github.com/damonge/CoLoRe\n",
    "The directory that points to these files should be put in the FITSDIR environment variable. Any file(s) with (RA,DEC,redshift) coordinates may also be used with little adaptation to match the exact key names.\n",
    "\n",
    "For testing, Spark (and these dependencies) can also be installed on a personal computer https://spark.apache.org/docs/latest/.\n",
    "\n",
    "For LSST/DESC collaborators with a NERSC account see https://github.com/LSSTDESC/desc-spark (FITSDIR=/global/cscratch1/sd/plaszczy/LSST10Y)\n",
    "\n",
    "\n"
   ]
  },
  {
   "cell_type": "markdown",
   "metadata": {},
   "source": [
    "## Initialisation"
   ]
  },
  {
   "cell_type": "code",
   "execution_count": 2,
   "metadata": {},
   "outputs": [
    {
     "name": "stdout",
     "output_type": "stream",
     "text": [
      "Spark session started\n"
     ]
    }
   ],
   "source": [
    "from pyspark.sql import SparkSession\n",
    "from pyspark import StorageLevel\n",
    "from pyspark.sql import functions as F\n",
    "from pyspark.sql.functions import randn\n",
    "from pyspark.sql.types import IntegerType,FloatType\n",
    "from pyspark.sql.functions import pandas_udf, PandasUDFType\n",
    "\n",
    "spark = SparkSession.builder.getOrCreate()\n",
    "sc=spark.sparkContext\n",
    "print(\"Spark session started\")\n",
    "\n",
    "#a class for timing\n",
    "from time import time\n",
    "class Timer:\n",
    "    \"\"\"\n",
    "    a simple class for printing time (s) since last call\n",
    "    \"\"\"\n",
    "    def __init__(self):\n",
    "        self.t0=time()\n",
    "    \n",
    "    def start(self):\n",
    "        self.t0=time()\n",
    "        \n",
    "    def stop(self):\n",
    "        t1=time()\n",
    "        print(\"{:2.1f}s\".format(t1-self.t0))\n",
    "\n",
    "timer=Timer()"
   ]
  },
  {
   "cell_type": "markdown",
   "metadata": {},
   "source": [
    "## Reading the data \n",
    "\n",
    "all CoLoRe FITS files assumed to be in a directory pointed by the FITSDIR env variable\n",
    "Le us build the **gal** datafreame selecting only the \"RA\" and \"dec\" columns and building a new redshift column called \"z\" on the flight."
   ]
  },
  {
   "cell_type": "code",
   "execution_count": 2,
   "metadata": {},
   "outputs": [
    {
     "name": "stdout",
     "output_type": "stream",
     "text": [
      "6.1s\n"
     ]
    }
   ],
   "source": [
    "import os\n",
    "dirfits=os.environ['FITSDIR']\n",
    "timer.start()\n",
    "gal=spark.read.format(\"fits\").option(\"hdu\",1)\\\n",
    "         .load(dirfits)\\\n",
    "         .select(F.col(\"RA\"), F.col(\"Dec\"), (F.col(\"Z_COSMO\")+F.col(\"DZ_RSD\")).alias(\"z\"))\n",
    "timer.stop()"
   ]
  },
  {
   "cell_type": "markdown",
   "metadata": {},
   "source": [
    "Pretty fast isn't it? This is because of lazy evaluation : data have not been actaully loaded (yet). The pipeline (Direct Acyclic Graph, DAG) has been updated but its execution has not been triggered since read/load/slect are not actions but transformations.\n",
    "At this level the schema of the data is however available so you can looks at it"
   ]
  },
  {
   "cell_type": "code",
   "execution_count": 3,
   "metadata": {},
   "outputs": [
    {
     "name": "stdout",
     "output_type": "stream",
     "text": [
      "root\n",
      " |-- RA: float (nullable = true)\n",
      " |-- Dec: float (nullable = true)\n",
      " |-- z: float (nullable = true)\n",
      "\n"
     ]
    }
   ],
   "source": [
    "gal.printSchema()"
   ]
  },
  {
   "cell_type": "markdown",
   "metadata": {},
   "source": [
    "you may want to look at a few values to check eveything is OK. Let's print the first 5"
   ]
  },
  {
   "cell_type": "code",
   "execution_count": 4,
   "metadata": {},
   "outputs": [
    {
     "name": "stdout",
     "output_type": "stream",
     "text": [
      "+---------+---------+---------+\n",
      "|       RA|      Dec|        z|\n",
      "+---------+---------+---------+\n",
      "|225.80168|18.519966|2.4199903|\n",
      "|225.73839|18.588171|2.4056022|\n",
      "|225.79999|18.635067| 2.396816|\n",
      "|225.49783|18.570776|2.4139786|\n",
      "|225.57983|18.638515|2.3995044|\n",
      "+---------+---------+---------+\n",
      "only showing top 5 rows\n",
      "\n",
      "14.1s\n"
     ]
    }
   ],
   "source": [
    "timer.start()\n",
    "gal.show(5)\n",
    "timer.stop()"
   ]
  },
  {
   "cell_type": "markdown",
   "metadata": {},
   "source": [
    "Still pretty fast. Here show is an action and has triggered the data access.But not the full data set : since we required only the first 5 rows, the DAG was (automatically) analyzed and only the first block was actually read"
   ]
  },
  {
   "cell_type": "markdown",
   "metadata": {},
   "source": [
    "Now we add an extra column that performs gaussian smearing on the \"z\" column. We use the Spark \"rand\" function that is highly optimized"
   ]
  },
  {
   "cell_type": "code",
   "execution_count": 5,
   "metadata": {},
   "outputs": [
    {
     "name": "stdout",
     "output_type": "stream",
     "text": [
      "+---------+---------+---------+---------+\n",
      "|       RA|      Dec|        z|     zrec|\n",
      "+---------+---------+---------+---------+\n",
      "|225.80168|18.519966|2.4199903|2.3029215|\n",
      "|225.73839|18.588171|2.4056022|2.6602228|\n",
      "|225.79999|18.635067| 2.396816|2.3686476|\n",
      "|225.49783|18.570776|2.4139786|2.4345846|\n",
      "|225.57983|18.638515|2.3995044|2.3599765|\n",
      "+---------+---------+---------+---------+\n",
      "only showing top 5 rows\n",
      "\n",
      "8.3s\n"
     ]
    }
   ],
   "source": [
    "timer.start()\n",
    "gal=gal.withColumn(\"zrec\",(gal.z+0.03*(1+gal.z)*randn()).astype('float'))\n",
    "gal.show(5)\n",
    "timer.stop()"
   ]
  },
  {
   "cell_type": "markdown",
   "metadata": {},
   "source": [
    "Now we have all our columns ready, we put data in cache. Recall that the amount of memory available for the cache is about 60% of your total executors memory. You may simply use the cache() function. Here in case you do not have enough memory we use a slighlty more evolved form that fills the cache and spills the rest over disk if necessary.\n",
    "Remember to finalize your command with an actiom as count() here.\n",
    "This is the lenghty part but you need to perform it only once."
   ]
  },
  {
   "cell_type": "code",
   "execution_count": 6,
   "metadata": {},
   "outputs": [
    {
     "name": "stdout",
     "output_type": "stream",
     "text": [
      "#galaxies=5926764520\n",
      "97.6s\n"
     ]
    }
   ],
   "source": [
    "timer.start()\n",
    "print(\"#galaxies={}\".format(gal.persist(StorageLevel.MEMORY_AND_DISK).count()))\n",
    "timer.stop()"
   ]
  },
  {
   "cell_type": "markdown",
   "metadata": {},
   "source": [
    "We put about 6 billions of galaxies in cache, just as if we had a hge RAM. All further computattions will be boosted."
   ]
  },
  {
   "cell_type": "markdown",
   "metadata": {},
   "source": [
    "# Basic statistics"
   ]
  },
  {
   "cell_type": "markdown",
   "metadata": {},
   "source": [
    "Le us first look at some simple statistics on a single column"
   ]
  },
  {
   "cell_type": "code",
   "execution_count": 7,
   "metadata": {},
   "outputs": [
    {
     "name": "stdout",
     "output_type": "stream",
     "text": [
      "+-------+-------------------+\n",
      "|summary|                  z|\n",
      "+-------+-------------------+\n",
      "|  count|         5926764520|\n",
      "|   mean|  0.875229446764415|\n",
      "| stddev|0.47360539212211805|\n",
      "|    min|        -5.93947E-4|\n",
      "|    max|          2.4352543|\n",
      "+-------+-------------------+\n",
      "\n",
      "5.6s\n"
     ]
    }
   ],
   "source": [
    "timer.start()\n",
    "gal.describe(['z']).show()\n",
    "timer.stop()"
   ]
  },
  {
   "cell_type": "markdown",
   "metadata": {},
   "source": [
    "On all the columns:"
   ]
  },
  {
   "cell_type": "code",
   "execution_count": 8,
   "metadata": {},
   "outputs": [
    {
     "name": "stdout",
     "output_type": "stream",
     "text": [
      "+-------+------------------+--------------------+------------------+-------------------+\n",
      "|summary|                RA|                 Dec|                 z|               zrec|\n",
      "+-------+------------------+--------------------+------------------+-------------------+\n",
      "|  count|        5926764520|          5926764520|        5926764520|         5926764520|\n",
      "|   mean|179.99419917017775|-0.00314190695924...|0.8752294467644149| 0.8752288274953041|\n",
      "| stddev|103.92702755739798|   39.17648956108155|0.4736053921221175|0.47714711978268487|\n",
      "|    min|      4.9597503E-8|          -89.997185|       -5.93947E-4|       -0.124362685|\n",
      "|    max|             360.0|             89.9986|         2.4352543|            2.95336|\n",
      "+-------+------------------+--------------------+------------------+-------------------+\n",
      "\n",
      "9.2s\n"
     ]
    }
   ],
   "source": [
    "timer.start()\n",
    "gal.describe().show()\n",
    "timer.stop()"
   ]
  },
  {
   "cell_type": "markdown",
   "metadata": {},
   "source": [
    "If you just need some specific values it will be more efficient to call them directly"
   ]
  },
  {
   "cell_type": "code",
   "execution_count": 9,
   "metadata": {},
   "outputs": [
    {
     "name": "stdout",
     "output_type": "stream",
     "text": [
      "min=-0.0005939470138400793 max=2.4352543354034424\n",
      "4.5s\n"
     ]
    }
   ],
   "source": [
    "timer.start()\n",
    "minmax=gal.select(F.min(\"z\"),F.max(\"z\")).first()\n",
    "print(\"min={} max={}\".format(minmax[0],minmax[1]))\n",
    "timer.stop()"
   ]
  },
  {
   "cell_type": "markdown",
   "metadata": {},
   "source": [
    "# Histograms"
   ]
  },
  {
   "cell_type": "markdown",
   "metadata": {},
   "source": [
    "The distributed way of building histograms is:\n",
    "- add a column of bin values\n",
    "- groupBy this column and count the number of elements in each group\n",
    "- you may then drop the bin and add the center of the bin locations."
   ]
  },
  {
   "cell_type": "markdown",
   "metadata": {},
   "source": [
    "## with Spark native functions\n",
    "Here is how to do it using Spark dataframe functions"
   ]
  },
  {
   "cell_type": "code",
   "execution_count": 10,
   "metadata": {},
   "outputs": [],
   "source": [
    "#histogram caracteristics\n",
    "zmin=minmax[0]\n",
    "zmax=minmax[1]\n",
    "Nbins=100\n",
    "dz=(zmax-zmin)/Nbins\n",
    "\n",
    "#create the bin number column\n",
    "zbin=gal.select(gal.z,((gal['z']-zmin-dz/2)/dz).cast(IntegerType()).alias('bin'))\n",
    "# groupBy it + count + sort by bin values\n",
    "h=zbin.groupBy(\"bin\").count().orderBy(F.asc(\"bin\"))\n",
    "# add the bin locations (zbin) and drop the bin numer\n",
    "h=h.select(\"bin\",(zmin+dz/2+h['bin']*dz).alias('loc'),\"count\").drop(\"bin\")"
   ]
  },
  {
   "cell_type": "markdown",
   "metadata": {},
   "source": [
    "Now data is reduced to a simple histogram, we go back to the standard python world by converting the dataframe to a pandas object (this is the action so triggers the DAG materialization)"
   ]
  },
  {
   "cell_type": "code",
   "execution_count": 11,
   "metadata": {},
   "outputs": [
    {
     "name": "stdout",
     "output_type": "stream",
     "text": [
      "Index(['loc', 'count'], dtype='object') size=100\n",
      "13.0s\n"
     ]
    }
   ],
   "source": [
    "timer.start()\n",
    "p=h.toPandas()\n",
    "print(p.columns,\"size={}\".format(p.index.size))\n",
    "timer.stop()"
   ]
  },
  {
   "cell_type": "markdown",
   "metadata": {},
   "source": [
    "Let us plot the result with matplotlib"
   ]
  },
  {
   "cell_type": "code",
   "execution_count": 12,
   "metadata": {},
   "outputs": [
    {
     "data": {
      "image/png": "[encoded data removed]",
      "text/plain": [
       "<Figure size 432x288 with 1 Axes>"
      ]
     },
     "metadata": {},
     "output_type": "display_data"
    }
   ],
   "source": [
    "%matplotlib inline\n",
    "import matplotlib.pyplot as plt\n",
    "plt.bar(p['loc'].values,p['count'].values,dz,color='white',edgecolor='black')\n",
    "plt.xlabel(\"z\");"
   ]
  },
  {
   "cell_type": "markdown",
   "metadata": {},
   "source": [
    "## With a User Defined Function (udf)"
   ]
  },
  {
   "cell_type": "markdown",
   "metadata": {},
   "source": [
    "Although absolutely unnecessary here, we illustrate how one could have plugged an external UDF (to compute the bin number. Performances are extrememly dowgraded so you should NOT do it this way (see next part)"
   ]
  },
  {
   "cell_type": "code",
   "execution_count": 14,
   "metadata": {},
   "outputs": [
    {
     "name": "stdout",
     "output_type": "stream",
     "text": [
      "111.3s\n"
     ]
    }
   ],
   "source": [
    "#define your UDF (here just binning)\n",
    "binNumber_udf=F.udf(lambda z: int((z-zmin)/dz))\n",
    "timer.start()\n",
    "#create the bin number column\n",
    "p_udf=gal.select(gal.z,binNumber_udf(gal.z).alias('bin')).groupBy(\"bin\").count().orderBy(F.asc(\"bin\")).toPandas()\n",
    "timer.stop()"
   ]
  },
  {
   "cell_type": "markdown",
   "metadata": {},
   "source": [
    "That's not great.Let see how to be more efficient"
   ]
  },
  {
   "cell_type": "markdown",
   "metadata": {},
   "source": [
    "## With pandas_udf"
   ]
  },
  {
   "cell_type": "markdown",
   "metadata": {},
   "source": [
    "The recommended way to bind Spark to external python functions is through pandas_udf which achieve some level of vectorization the previous method miss."
   ]
  },
  {
   "cell_type": "code",
   "execution_count": 13,
   "metadata": {},
   "outputs": [
    {
     "name": "stdout",
     "output_type": "stream",
     "text": [
      "46.1s\n"
     ]
    }
   ],
   "source": [
    "import pandas as pd\n",
    "@pandas_udf(\"float\", PandasUDFType.SCALAR)\n",
    "def binFloat(z):\n",
    "    return pd.Series((z-zmin)/dz)\n",
    "timer.start()\n",
    "p_udf=gal.select(gal.z,binFloat(\"z\").astype('int').alias('bin')).groupBy(\"bin\").count().orderBy(F.asc(\"bin\")).toPandas()\n",
    "timer.stop()"
   ]
  },
  {
   "cell_type": "markdown",
   "metadata": {},
   "source": [
    "# Tomography\n",
    "This is a popular method in cosmology when one builds \"shells\" in some redshift range of over-densities and compute their 2D power-spectrum (using some spherical pixelization as HealPix). As the redshift decreases, matter clusters more and more and it is expected that these spectra increase in amplitude. Some cross-correlations between nearby bins also appear because of the smearing between the true redhifts (\"z\") and the observed ones (\"zrec\")."
   ]
  },
  {
   "cell_type": "code",
   "execution_count": 15,
   "metadata": {},
   "outputs": [],
   "source": [
    "# define a function that filters galaxies within a redshift range and prject them onto a healpix map\n",
    "# that is returned\n",
    "\n",
    "import numpy as np\n",
    "import healpy as hp\n",
    "\n",
    "nside=512\n",
    "\n",
    "def redshift_bin(gal,z1,z2):  \n",
    "    timer.start()\n",
    "    #filtering\n",
    "    shell=gal.filter(gal['zrec'].between(z1,z2))\n",
    "    print(\"shell=[{},{}] N={}M\".format(z1,z2,shell.count()/1e6))\n",
    "    \n",
    "    #projection into healpixels: build a pandas_udf that transforms (ra,dec) into (theta,phi) \n",
    "    # and calls healpy ang2pix function          \n",
    "    @pandas_udf('int', PandasUDFType.SCALAR)\n",
    "    def Ang2Pix(ra,dec):\n",
    "        return pd.Series(hp.ang2pix(nside,np.radians(90-dec),np.radians(ra)))\n",
    "    map=shell.select(Ang2Pix(\"RA\",\"Dec\").alias(\"ipix\")).groupBy(\"ipix\").count().toPandas()\n",
    " \n",
    "    #back to python world\n",
    "    myMap = np.zeros(hp.nside2npix(nside))\n",
    "    myMap[map['ipix'].values]=map['count'].values\n",
    "    timer.stop()\n",
    "    return myMap"
   ]
  },
  {
   "cell_type": "markdown",
   "metadata": {},
   "source": [
    "Do a loop over redshift bins  (choosen here so that there are some overlap between adajacent ones for the true redshift) and store the Healpix maps with the number of galaxies in each pixel in a dictionary for later use."
   ]
  },
  {
   "cell_type": "code",
   "execution_count": 54,
   "metadata": {
    "scrolled": true
   },
   "outputs": [
    {
     "name": "stdout",
     "output_type": "stream",
     "text": [
      "shell=[0.0,0.13] N=68.557105M\n",
      "27.8s\n",
      "shell=[0.13,0.27] N=322.103946M\n",
      "24.7s\n",
      "shell=[0.27,0.43] N=669.646368M\n",
      "30.3s\n",
      "shell=[0.43,0.63] N=1049.274954M\n",
      "35.3s\n",
      "shell=[0.63,0.82] N=980.216568M\n",
      "37.5s\n",
      "shell=[0.82,1.05] N=984.086242M\n",
      "33.9s\n",
      "shell=[1.05,1.32] N=812.257315M\n",
      "30.7s\n",
      "shell=[1.32,1.61] N=529.298439M\n",
      "30.5s\n",
      "shell=[1.61,1.95] N=325.212359M\n",
      "27.8s\n",
      "shell=[1.95,2.32] N=156.932408M\n",
      "26.4s\n"
     ]
    },
    {
     "data": {
      "text/plain": [
       "<Figure size 1080x720 with 0 Axes>"
      ]
     },
     "metadata": {},
     "output_type": "display_data"
    }
   ],
   "source": [
    "#redshift bins\n",
    "zshell=[0.0,0.13,0.27,0.43,0.63,0.82,1.05,1.32,1.61,1.95,2.32]\n",
    "tmap=dict()\n",
    "\n",
    "#loop over bins and store healpix maps in a dictionary indexed by z1\n",
    "plt.figure(figsize=(15,10))\n",
    "for (z1,z2) in zip(zshell[:-1],np.roll(zshell,-1)): \n",
    "    tmap[z1]=redshift_bin(gal,z1,z2)    "
   ]
  },
  {
   "cell_type": "markdown",
   "metadata": {},
   "source": [
    "Now do a standard analysis as the density contrast power spectra with (standard) healpix functions"
   ]
  },
  {
   "cell_type": "code",
   "execution_count": 59,
   "metadata": {},
   "outputs": [
    {
     "name": "stdout",
     "output_type": "stream",
     "text": [
      "bin=[0.0,0.13] mean #gals=21.7937167485555\n",
      "bin=[0.13,0.27] mean #gals=102.39408683776855\n",
      "bin=[0.27,0.43] mean #gals=212.87484741210938\n",
      "bin=[0.43,0.63] mean #gals=333.5555248260498\n",
      "bin=[0.63,0.82] mean #gals=311.60245513916016\n",
      "bin=[0.82,1.05] mean #gals=312.83259137471515\n",
      "bin=[1.05,1.32] mean #gals=258.209646542867\n",
      "bin=[1.32,1.61] mean #gals=168.25944232940674\n",
      "bin=[1.61,1.95] mean #gals=103.38222471872966\n",
      "bin=[1.95,2.32] mean #gals=49.88746897379557\n"
     ]
    },
    {
     "data": {
      "text/plain": [
       "Text(0,0.5,'power spectrum')"
      ]
     },
     "execution_count": 59,
     "metadata": {},
     "output_type": "execute_result"
    },
    {
     "data": {
      "image/png": "[encoded data removed]",
      "text/plain": [
       "<Figure size 432x288 with 1 Axes>"
      ]
     },
     "metadata": {},
     "output_type": "display_data"
    }
   ],
   "source": [
    "for (z1,z2) in zip(zshell[:-1],np.roll(zshell,-1)): \n",
    "    galmap=tmap[z1]\n",
    "    #compute mean\n",
    "    Nmean=np.mean(galmap)\n",
    "    print(\"bin=[{},{}] mean #gals={}\".format(z1,z2,Nmean))\n",
    "    #and do fractional difference\n",
    "    dens_map=galmap/Nmean-1\n",
    "    #compute power-spectrum on the spehere using a standrd healpix function\n",
    "    cl=hp.anafast(dens_map)\n",
    "    plt.plot(cl,label=r\"$z \\in [{},{}]$\".format(z1,z2))\n",
    "\n",
    "plt.xlim(1,120)\n",
    "plt.legend()\n",
    "plt.xlabel(r\"$\\ell$\")\n",
    "plt.ylabel(\"power spectrum\")"
   ]
  }
 ],
 "metadata": {
  "kernelspec": {
   "display_name": "Python 3",
   "language": "python",
   "name": "python3"
  },
  "language_info": {
   "codemirror_mode": {
    "name": "ipython",
    "version": 3
   },
   "file_extension": ".py",
   "mimetype": "text/x-python",
   "name": "python",
   "nbconvert_exporter": "python",
   "pygments_lexer": "ipython3",
   "version": "3.6.5"
  }
 },
 "nbformat": 4,
 "nbformat_minor": 2
}
